{
 "cells": [
  {
   "cell_type": "code",
   "execution_count": 1,
   "metadata": {
    "collapsed": true
   },
   "outputs": [],
   "source": [
    "import torch\n",
    "import torch.nn as nn\n",
    "from torch.autograd import Variable\n",
    "import torch.nn.functional as F"
   ]
  },
  {
   "cell_type": "code",
   "execution_count": 77,
   "metadata": {},
   "outputs": [
    {
     "data": {
      "text/plain": [
       "\n",
       " 0\n",
       "[torch.LongTensor of size 1]"
      ]
     },
     "execution_count": 77,
     "metadata": {},
     "output_type": "execute_result"
    }
   ],
   "source": [
    "x = torch.FloatTensor([[0,0,1,0,0,1,0,0,0,0]]).view(-1,1,10)\n",
    "y = torch.LongTensor([0])\n",
    "y"
   ]
  },
  {
   "cell_type": "code",
   "execution_count": 78,
   "metadata": {},
   "outputs": [
    {
     "data": {
      "text/plain": [
       "Variable containing:\n",
       " 0.3539  0.3555\n",
       "[torch.FloatTensor of size 1x2]"
      ]
     },
     "execution_count": 78,
     "metadata": {},
     "output_type": "execute_result"
    }
   ],
   "source": [
    "class CnnNet(nn.Module):\n",
    "    def __init__(self):\n",
    "        super(CnnNet, self).__init__()\n",
    "        self.conv1 = nn.Conv1d(1,1,5)\n",
    "        self.conv2 = nn.Conv1d(1,1,5)\n",
    "    def forward(self, x):\n",
    "        x = self.conv1(x)\n",
    "        x = self.conv2(x)\n",
    "        x = x.view(1,2)\n",
    "        return x\n",
    "    \n",
    "x_var = Variable(x)\n",
    "cnn_net = CnnNet()\n",
    "cnn_net(x_var)"
   ]
  },
  {
   "cell_type": "code",
   "execution_count": 102,
   "metadata": {
    "collapsed": true
   },
   "outputs": [],
   "source": [
    "#train\n",
    "def reset(m):\n",
    "    if hasattr(m, 'reset_parameters'):\n",
    "        m.reset_parameters()\n",
    "    \n",
    "def train(model, x, y, num_epochs = 5000, print_every = 500):\n",
    "    model.apply(reset)\n",
    "    loss_fn = nn.CrossEntropyLoss().cuda()\n",
    "    optimizer = torch.optim.Adam(model.parameters(), lr=1e-3)\n",
    "    for epoch in range(num_epochs):\n",
    "        model.train()\n",
    "        x_var = Variable(x)\n",
    "        y_var = Variable(y)\n",
    "        scores = model(x_var)\n",
    "        loss = loss_fn(scores, y_var) \n",
    "        if (epoch + 1) % print_every == 0:\n",
    "            print('t = %d, loss = %.4f' % (epoch + 1, loss.data[0]))            \n",
    "        optimizer.zero_grad()\n",
    "        loss.backward() \n",
    "        optimizer.step()"
   ]
  },
  {
   "cell_type": "code",
   "execution_count": 103,
   "metadata": {},
   "outputs": [
    {
     "name": "stdout",
     "output_type": "stream",
     "text": [
      "t = 500, loss = 0.0432\n",
      "t = 1000, loss = 0.0088\n",
      "t = 1500, loss = 0.0034\n",
      "t = 2000, loss = 0.0017\n",
      "t = 2500, loss = 0.0010\n",
      "t = 3000, loss = 0.0006\n",
      "t = 3500, loss = 0.0004\n",
      "t = 4000, loss = 0.0003\n",
      "t = 4500, loss = 0.0002\n",
      "t = 5000, loss = 0.0001\n"
     ]
    }
   ],
   "source": [
    "train(cnn_net,x,y)"
   ]
  },
  {
   "cell_type": "code",
   "execution_count": 104,
   "metadata": {},
   "outputs": [
    {
     "data": {
      "text/plain": [
       "Variable containing:\n",
       " 3.0684 -5.9178\n",
       "[torch.FloatTensor of size 1x2]"
      ]
     },
     "execution_count": 104,
     "metadata": {},
     "output_type": "execute_result"
    }
   ],
   "source": [
    "cnn_net(x_var)"
   ]
  },
  {
   "cell_type": "code",
   "execution_count": 116,
   "metadata": {},
   "outputs": [
    {
     "data": {
      "text/plain": [
       "Variable containing:\n",
       " 0.7171 -4.5872\n",
       "[torch.FloatTensor of size 1x2]"
      ]
     },
     "execution_count": 116,
     "metadata": {},
     "output_type": "execute_result"
    }
   ],
   "source": [
    "x2 = torch.FloatTensor([[0,0,0,0,0,1,0,0,0,1]]).view(-1,1,10)\n",
    "x2_var = Variable(x2)\n",
    "cnn_net(x2_var)\n",
    "#移动后不能很好的识别"
   ]
  },
  {
   "cell_type": "code",
   "execution_count": null,
   "metadata": {
    "collapsed": true
   },
   "outputs": [],
   "source": []
  }
 ],
 "metadata": {
  "kernelspec": {
   "display_name": "Python 3",
   "language": "python",
   "name": "python3"
  },
  "language_info": {
   "codemirror_mode": {
    "name": "ipython",
    "version": 3
   },
   "file_extension": ".py",
   "mimetype": "text/x-python",
   "name": "python",
   "nbconvert_exporter": "python",
   "pygments_lexer": "ipython3",
   "version": "3.6.3"
  }
 },
 "nbformat": 4,
 "nbformat_minor": 2
}
