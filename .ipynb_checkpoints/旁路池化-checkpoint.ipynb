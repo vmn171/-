{
 "cells": [
  {
   "cell_type": "markdown",
   "metadata": {},
   "source": [
    "# ZoomNet"
   ]
  },
  {
   "cell_type": "code",
   "execution_count": 1,
   "metadata": {
    "collapsed": true
   },
   "outputs": [],
   "source": [
    "import torch\n",
    "import torch.nn as nn\n",
    "import torch.optim as optim\n",
    "from torch.autograd import Variable\n",
    "from torch.utils.data import DataLoader\n",
    "from torch.utils.data import sampler\n",
    "from PIL import Image\n",
    "import torchvision.datasets as dset\n",
    "import torchvision.transforms as T\n",
    "import numpy as np\n",
    "import torch.nn.functional as F\n",
    "from tensorboardX import SummaryWriter"
   ]
  },
  {
   "cell_type": "markdown",
   "metadata": {},
   "source": [
    "# dataset"
   ]
  },
  {
   "cell_type": "code",
   "execution_count": 2,
   "metadata": {
    "collapsed": true
   },
   "outputs": [],
   "source": [
    "#不变\n",
    "zoom_none = T.Compose([\n",
    "    T.ToTensor(),\n",
    "    ])\n",
    "\n",
    "#放大\n",
    "zoom_in = T.Compose([\n",
    "    T.Resize(45),\n",
    "    T.CenterCrop(28),\n",
    "    T.ToTensor(),\n",
    "    ])\n",
    "\n",
    "#缩小\n",
    "zoom_out = T.Compose([\n",
    "    T.Resize(10),\n",
    "    T.Pad(9),\n",
    "    T.ToTensor(),\n",
    "    ])\n",
    "\n",
    "#缩小右下\n",
    "zoom_out_RD = T.Compose([\n",
    "    T.Resize(10),\n",
    "    T.Pad((13,13,5,5)),#左上右下\n",
    "    T.ToTensor(),\n",
    "    ])\n",
    "\n",
    "#缩小到左上\n",
    "zoom_out_LU = T.Compose([\n",
    "    T.Resize(10),\n",
    "    T.Pad((5,5,13,13)),#左上右下\n",
    "    T.ToTensor(),\n",
    "    ])\n",
    "\n",
    "#缩小到左下\n",
    "zoom_out_LD = T.Compose([\n",
    "    T.Resize(10),\n",
    "    T.Pad((5,13,13,5)),#左上右下\n",
    "    T.ToTensor(),\n",
    "    ])\n",
    "\n",
    "#缩小到右上\n",
    "zoom_out_RU = T.Compose([\n",
    "    T.Resize(10),\n",
    "    T.Pad((13,5,5,13)),#左上右下\n",
    "    T.ToTensor(),\n",
    "    ])\n",
    "\n",
    "\n",
    "\n",
    "def get_mnist_dataloader(transforms, batch_size, shuffle=False, if_print=False):\n",
    "    set_train = dset.MNIST('../MNIST', train=True, transform=transforms, download=False)\n",
    "    loader_train = DataLoader(set_train, batch_size=batch_size, shuffle=shuffle)\n",
    "    set_test = dset.MNIST('../MNIST', train=False, transform=transforms,download=False)\n",
    "    loader_test = DataLoader(set_test, batch_size=batch_size, shuffle=shuffle)\n",
    "    if if_print:\n",
    "        print(\"训练集大小：\",set_train.train_data.size())\n",
    "        print(\"训练集标签：\",set_train.train_labels.size())\n",
    "        print(\"测试集大小：\",set_test.test_data.size())\n",
    "        print(\"测试集标签：\",set_test.test_labels.size())\n",
    "    return loader_train, loader_test"
   ]
  },
  {
   "cell_type": "markdown",
   "metadata": {},
   "source": [
    "# show imgs on tensorboard"
   ]
  },
  {
   "cell_type": "code",
   "execution_count": 3,
   "metadata": {},
   "outputs": [
    {
     "name": "stdout",
     "output_type": "stream",
     "text": [
      "训练集大小： torch.Size([60000, 28, 28])\n",
      "训练集标签： torch.Size([60000])\n",
      "测试集大小： torch.Size([10000, 28, 28])\n",
      "测试集标签： torch.Size([10000])\n",
      "torch.Size([64, 1, 28, 28])\n"
     ]
    }
   ],
   "source": [
    "train_none, test_none = get_mnist_dataloader(zoom_none, 64, if_print=True)\n",
    "train_zoom_in, test_zoom_in = get_mnist_dataloader(zoom_in, 64)\n",
    "train_zoom_out, test_zoom_out = get_mnist_dataloader(zoom_out, 64)\n",
    "train_RD, test_RD = get_mnist_dataloader(zoom_out_RD, 64)\n",
    "train_LU, test_LU = get_mnist_dataloader(zoom_out_LU, 64)\n",
    "train_LD, test_LD = get_mnist_dataloader(zoom_out_LD, 64)\n",
    "train_RU, test_RU = get_mnist_dataloader(zoom_out_RU, 64)\n",
    "\n",
    "\n",
    "test_imgs = next(iter(test_RU))\n",
    "print(test_imgs[0].shape)\n",
    "writer = SummaryWriter()\n",
    "writer.add_image('Image', test_imgs[0], 1)\n",
    "writer.close()"
   ]
  },
  {
   "cell_type": "markdown",
   "metadata": {},
   "source": [
    "# train"
   ]
  },
  {
   "cell_type": "code",
   "execution_count": 4,
   "metadata": {
    "collapsed": true
   },
   "outputs": [],
   "source": [
    "def reset(m):\n",
    "    if hasattr(m, 'reset_parameters'):\n",
    "        m.reset_parameters()\n",
    "    \n",
    "def train(model, train_data, test_data, num_epochs = 1, print_every = 200):\n",
    "    model.apply(reset)\n",
    "    loss_fn = nn.CrossEntropyLoss().cuda()\n",
    "    optimizer = torch.optim.Adam(model.parameters(), lr=1e-3)\n",
    "    for epoch in range(num_epochs):\n",
    "        print('Starting epoch %d / %d' % (epoch + 1, num_epochs))\n",
    "        check_accuracy(model, test_data)\n",
    "        model.train()\n",
    "        for t, (x, y) in enumerate(train_data):\n",
    "            x_var = Variable(x.cuda())\n",
    "            y_var = Variable(y.cuda().long())\n",
    "            scores = model(x_var)        \n",
    "            loss = loss_fn(scores, y_var) \n",
    "            if (t + 1) % print_every == 0:\n",
    "                print('t = %d, loss = %.4f' % (t + 1, loss.data[0]))            \n",
    "            optimizer.zero_grad()\n",
    "            loss.backward() \n",
    "            optimizer.step()\n",
    "    print(\"\\n test_none_accuracy\")\n",
    "    check_accuracy(model, test_none)\n",
    "    print(\"test_zoom_in_accuracy\")\n",
    "    check_accuracy(model, test_zoom_in)\n",
    "    print(\"test_zoom_out\")\n",
    "    check_accuracy(model, test_zoom_out)\n",
    "    print(\"test_RD\")\n",
    "    check_accuracy(model, test_RD)\n",
    "    print(\"test_LU\")\n",
    "    check_accuracy(model, test_LU)\n",
    "    print(\"test_LD\")\n",
    "    check_accuracy(model, test_LD)\n",
    "    print(\"test_RU\")\n",
    "    check_accuracy(model, test_RU)\n",
    "            \n",
    "def check_accuracy(model, test_data):\n",
    "    num_correct = 0\n",
    "    num_samples = 0\n",
    "    model.eval() \n",
    "    for x, y in test_data:\n",
    "        x_var = Variable(x.cuda(), volatile=True)\n",
    "        scores = model(x_var)\n",
    "        _, preds = scores.data.cpu().max(1)\n",
    "        num_correct += (preds == y).sum()\n",
    "        num_samples += preds.size(0)\n",
    "    acc = float(num_correct) / num_samples\n",
    "    print('Got %d / %d correct (%.2f)' % (num_correct, num_samples, 100 * acc))"
   ]
  },
  {
   "cell_type": "markdown",
   "metadata": {},
   "source": [
    "### PoolBlock"
   ]
  },
  {
   "cell_type": "code",
   "execution_count": 17,
   "metadata": {},
   "outputs": [
    {
     "data": {
      "text/plain": [
       "torch.Size([1, 5, 28, 28])"
      ]
     },
     "execution_count": 17,
     "metadata": {},
     "output_type": "execute_result"
    }
   ],
   "source": [
    "#PoolBlock\n",
    "class PoolBlock(nn.Module):\n",
    "    \"\"\"Pool模块\"\"\"\n",
    "\n",
    "    def __init__(self, in_ch, out_ch):\n",
    "        super(PoolBlock, self).__init__()\n",
    "        self.conv_layer = nn.Sequential(\n",
    "            nn.Conv2d(in_ch, out_ch, 3, stride=1, padding=1),\n",
    "            nn.BatchNorm2d(out_ch),\n",
    "            nn.ReLU(),\n",
    "            nn.Dropout(0.2)\n",
    "        )\n",
    "        self.pool = nn.MaxPool2d(28,28)\n",
    "        self.conv2 = nn.Conv2d(out_ch*2,out_ch,1)\n",
    "\n",
    "    def forward(self, x):\n",
    "        res = x\n",
    "        x = self.conv_layer(x)\n",
    "        #x = x + res\n",
    "        x2 = self.pool(x)\n",
    "        x2 = x2.expand_as(x)\n",
    "        x = torch.cat((x,x2),dim=1)\n",
    "        x = self.conv2(x)\n",
    "        return x\n",
    "\n",
    "#test\n",
    "x = torch.randn(1,1,28,28)\n",
    "x = Variable(x)\n",
    "pool_net = PoolBlock(1,5)\n",
    "y = pool_net(x)\n",
    "y.shape"
   ]
  },
  {
   "cell_type": "markdown",
   "metadata": {},
   "source": [
    "# new_net"
   ]
  },
  {
   "cell_type": "code",
   "execution_count": 22,
   "metadata": {},
   "outputs": [
    {
     "name": "stdout",
     "output_type": "stream",
     "text": [
      "torch.Size([5, 10])\n"
     ]
    }
   ],
   "source": [
    "class Net(nn.Module):\n",
    "    def __init__(self):\n",
    "        super(Net, self).__init__()\n",
    "        self.feature = nn.Sequential(\n",
    "            PoolBlock(1,64),\n",
    "            PoolBlock(64,64),\n",
    "            PoolBlock(64,64),\n",
    "            PoolBlock(64,64),\n",
    "            PoolBlock(64,32),\n",
    "        )\n",
    "        self.classifier = nn.Sequential(\n",
    "            nn.Linear(32*28*28, 10),\n",
    "        )\n",
    "    def forward(self, x):\n",
    "        x = self.feature(x)\n",
    "        #print(x.shape)\n",
    "        x = x.view(x.size(0),-1)\n",
    "        x = self.classifier(x)\n",
    "        return x\n",
    "\n",
    "net = Net().cuda()\n",
    "\n",
    "input = Variable(torch.randn(5, 1, 28, 28)).cuda()\n",
    "out = net(input)\n",
    "print(out.shape)"
   ]
  },
  {
   "cell_type": "markdown",
   "metadata": {},
   "source": [
    "# run"
   ]
  },
  {
   "cell_type": "code",
   "execution_count": 23,
   "metadata": {},
   "outputs": [
    {
     "name": "stdout",
     "output_type": "stream",
     "text": [
      "Starting epoch 1 / 10\n",
      "Got 974 / 10000 correct (9.74)\n",
      "t = 200, loss = 0.7990\n",
      "t = 400, loss = 0.2628\n",
      "t = 600, loss = 0.4134\n",
      "t = 800, loss = 0.1133\n",
      "Starting epoch 2 / 10\n",
      "Got 8719 / 10000 correct (87.19)\n",
      "t = 200, loss = 0.3548\n",
      "t = 400, loss = 0.2179\n",
      "t = 600, loss = 0.2885\n",
      "t = 800, loss = 0.1155\n",
      "Starting epoch 3 / 10\n",
      "Got 8567 / 10000 correct (85.67)\n",
      "t = 200, loss = 0.2381\n",
      "t = 400, loss = 0.0800\n",
      "t = 600, loss = 0.2784\n",
      "t = 800, loss = 0.0386\n",
      "Starting epoch 4 / 10\n",
      "Got 9175 / 10000 correct (91.75)\n",
      "t = 200, loss = 0.1846\n",
      "t = 400, loss = 0.1689\n",
      "t = 600, loss = 0.4087\n",
      "t = 800, loss = 0.0476\n",
      "Starting epoch 5 / 10\n",
      "Got 9260 / 10000 correct (92.60)\n",
      "t = 200, loss = 0.1361\n",
      "t = 400, loss = 0.0997\n",
      "t = 600, loss = 0.2632\n",
      "t = 800, loss = 0.2064\n",
      "Starting epoch 6 / 10\n",
      "Got 9733 / 10000 correct (97.33)\n",
      "t = 200, loss = 0.1378\n",
      "t = 400, loss = 0.0792\n",
      "t = 600, loss = 0.1904\n",
      "t = 800, loss = 0.0983\n",
      "Starting epoch 7 / 10\n",
      "Got 9609 / 10000 correct (96.09)\n",
      "t = 200, loss = 0.1073\n",
      "t = 400, loss = 0.1280\n",
      "t = 600, loss = 0.3062\n",
      "t = 800, loss = 0.0677\n",
      "Starting epoch 8 / 10\n",
      "Got 9619 / 10000 correct (96.19)\n",
      "t = 200, loss = 0.1345\n",
      "t = 400, loss = 0.1563\n",
      "t = 600, loss = 0.0937\n",
      "t = 800, loss = 0.0252\n",
      "Starting epoch 9 / 10\n",
      "Got 9768 / 10000 correct (97.68)\n",
      "t = 200, loss = 0.1266\n",
      "t = 400, loss = 0.2061\n",
      "t = 600, loss = 0.1294\n",
      "t = 800, loss = 0.0344\n",
      "Starting epoch 10 / 10\n",
      "Got 9769 / 10000 correct (97.69)\n",
      "t = 200, loss = 0.1175\n",
      "t = 400, loss = 0.1783\n",
      "t = 600, loss = 0.1474\n",
      "t = 800, loss = 0.0381\n",
      "\n",
      " test_none_accuracy\n",
      "Got 2647 / 10000 correct (26.47)\n",
      "test_zoom_in_accuracy\n",
      "Got 1141 / 10000 correct (11.41)\n",
      "test_zoom_out\n",
      "Got 9814 / 10000 correct (98.14)\n",
      "test_RD\n",
      "Got 9813 / 10000 correct (98.13)\n",
      "test_LU\n",
      "Got 9813 / 10000 correct (98.13)\n",
      "test_LD\n",
      "Got 9813 / 10000 correct (98.13)\n",
      "test_RU\n",
      "Got 9814 / 10000 correct (98.14)\n"
     ]
    }
   ],
   "source": [
    "# 训练naive_net\n",
    "train(net, \n",
    "      train_RU,\n",
    "      test_RU, \n",
    "      num_epochs=10)"
   ]
  },
  {
   "cell_type": "code",
   "execution_count": null,
   "metadata": {
    "collapsed": true
   },
   "outputs": [],
   "source": [
    "#对于位移不变性的泛化非常成功\n",
    "#可以继续试验旋转不变性\n",
    "#可以尝试膨胀卷积"
   ]
  }
 ],
 "metadata": {
  "kernelspec": {
   "display_name": "Python 3",
   "language": "python",
   "name": "python3"
  },
  "language_info": {
   "codemirror_mode": {
    "name": "ipython",
    "version": 3
   },
   "file_extension": ".py",
   "mimetype": "text/x-python",
   "name": "python",
   "nbconvert_exporter": "python",
   "pygments_lexer": "ipython3",
   "version": "3.6.3"
  }
 },
 "nbformat": 4,
 "nbformat_minor": 1
}
