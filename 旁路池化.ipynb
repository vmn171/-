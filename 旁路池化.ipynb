{
 "cells": [
  {
   "cell_type": "markdown",
   "metadata": {},
   "source": [
    "# ZoomNet 旁路池化"
   ]
  },
  {
   "cell_type": "code",
   "execution_count": 1,
   "metadata": {
    "collapsed": true
   },
   "outputs": [],
   "source": [
    "import torch\n",
    "import torch.nn as nn\n",
    "import torch.optim as optim\n",
    "from torch.autograd import Variable\n",
    "from torch.utils.data import DataLoader\n",
    "from torch.utils.data import sampler\n",
    "from PIL import Image\n",
    "import torchvision.datasets as dset\n",
    "import torchvision.transforms as T\n",
    "import numpy as np\n",
    "import torch.nn.functional as F\n",
    "from tensorboardX import SummaryWriter"
   ]
  },
  {
   "cell_type": "markdown",
   "metadata": {},
   "source": [
    "# dataset"
   ]
  },
  {
   "cell_type": "code",
   "execution_count": 2,
   "metadata": {
    "collapsed": true
   },
   "outputs": [],
   "source": [
    "#不变\n",
    "zoom_none = T.Compose([\n",
    "    T.ToTensor(),\n",
    "    ])\n",
    "\n",
    "#放大\n",
    "zoom_in = T.Compose([\n",
    "    T.Resize(45),\n",
    "    T.CenterCrop(28),\n",
    "    T.ToTensor(),\n",
    "    ])\n",
    "\n",
    "#缩小\n",
    "zoom_out = T.Compose([\n",
    "    T.Resize(10),\n",
    "    T.Pad(9),\n",
    "    T.ToTensor(),\n",
    "    ])\n",
    "\n",
    "#缩小右下\n",
    "zoom_out_RD = T.Compose([\n",
    "    T.Resize(10),\n",
    "    T.Pad((13,13,5,5)),#左上右下\n",
    "    T.ToTensor(),\n",
    "    ])\n",
    "\n",
    "#缩小到左上\n",
    "zoom_out_LU = T.Compose([\n",
    "    T.Resize(10),\n",
    "    T.Pad((5,5,13,13)),#左上右下\n",
    "    T.ToTensor(),\n",
    "    ])\n",
    "\n",
    "#缩小到左下\n",
    "zoom_out_LD = T.Compose([\n",
    "    T.Resize(10),\n",
    "    T.Pad((5,13,13,5)),#左上右下\n",
    "    T.ToTensor(),\n",
    "    ])\n",
    "\n",
    "#缩小到右上\n",
    "zoom_out_RU = T.Compose([\n",
    "    T.Resize(10),\n",
    "    T.Pad((13,5,5,13)),#左上右下\n",
    "    T.ToTensor(),\n",
    "    ])\n",
    "\n",
    "\n",
    "\n",
    "def get_mnist_dataloader(transforms, batch_size, shuffle=False, if_print=False):\n",
    "    set_train = dset.MNIST('../MNIST', train=True, transform=transforms, download=False)\n",
    "    loader_train = DataLoader(set_train, batch_size=batch_size, shuffle=shuffle)\n",
    "    set_test = dset.MNIST('../MNIST', train=False, transform=transforms,download=False)\n",
    "    loader_test = DataLoader(set_test, batch_size=batch_size, shuffle=shuffle)\n",
    "    if if_print:\n",
    "        print(\"训练集大小：\",set_train.train_data.size())\n",
    "        print(\"训练集标签：\",set_train.train_labels.size())\n",
    "        print(\"测试集大小：\",set_test.test_data.size())\n",
    "        print(\"测试集标签：\",set_test.test_labels.size())\n",
    "    return loader_train, loader_test"
   ]
  },
  {
   "cell_type": "markdown",
   "metadata": {},
   "source": [
    "# show imgs on tensorboard"
   ]
  },
  {
   "cell_type": "code",
   "execution_count": 3,
   "metadata": {},
   "outputs": [
    {
     "name": "stdout",
     "output_type": "stream",
     "text": [
      "训练集大小： torch.Size([60000, 28, 28])\n",
      "训练集标签： torch.Size([60000])\n",
      "测试集大小： torch.Size([10000, 28, 28])\n",
      "测试集标签： torch.Size([10000])\n",
      "torch.Size([64, 1, 28, 28])\n"
     ]
    }
   ],
   "source": [
    "train_none, test_none = get_mnist_dataloader(zoom_none, 64, if_print=True)\n",
    "train_zoom_in, test_zoom_in = get_mnist_dataloader(zoom_in, 64)\n",
    "train_zoom_out, test_zoom_out = get_mnist_dataloader(zoom_out, 64)\n",
    "train_RD, test_RD = get_mnist_dataloader(zoom_out_RD, 64)\n",
    "train_LU, test_LU = get_mnist_dataloader(zoom_out_LU, 64)\n",
    "train_LD, test_LD = get_mnist_dataloader(zoom_out_LD, 64)\n",
    "train_RU, test_RU = get_mnist_dataloader(zoom_out_RU, 64)\n",
    "\n",
    "\n",
    "test_imgs = next(iter(test_RU))\n",
    "print(test_imgs[0].shape)\n",
    "writer = SummaryWriter()\n",
    "writer.add_image('Image', test_imgs[0], 1)\n",
    "writer.close()"
   ]
  },
  {
   "cell_type": "markdown",
   "metadata": {},
   "source": [
    "# train"
   ]
  },
  {
   "cell_type": "code",
   "execution_count": 4,
   "metadata": {
    "collapsed": true
   },
   "outputs": [],
   "source": [
    "def reset(m):\n",
    "    if hasattr(m, 'reset_parameters'):\n",
    "        m.reset_parameters()\n",
    "    \n",
    "def train(model, train_data, test_data, num_epochs = 1, print_every = 200):\n",
    "    model.apply(reset)\n",
    "    loss_fn = nn.CrossEntropyLoss().cuda()\n",
    "    optimizer = torch.optim.Adam(model.parameters(), lr=1e-3)\n",
    "    for epoch in range(num_epochs):\n",
    "        print('Starting epoch %d / %d' % (epoch + 1, num_epochs))\n",
    "        check_accuracy(model, test_data)\n",
    "        model.train()\n",
    "        for t, (x, y) in enumerate(train_data):\n",
    "            x_var = Variable(x.cuda())\n",
    "            y_var = Variable(y.cuda().long())\n",
    "            scores = model(x_var)        \n",
    "            loss = loss_fn(scores, y_var) \n",
    "            if (t + 1) % print_every == 0:\n",
    "                print('t = %d, loss = %.4f' % (t + 1, loss.data[0]))            \n",
    "            optimizer.zero_grad()\n",
    "            loss.backward() \n",
    "            optimizer.step()\n",
    "    print(\"\\n test_none_accuracy\")\n",
    "    check_accuracy(model, test_none)\n",
    "    print(\"test_zoom_in_accuracy\")\n",
    "    check_accuracy(model, test_zoom_in)\n",
    "    print(\"test_zoom_out\")\n",
    "    check_accuracy(model, test_zoom_out)\n",
    "    print(\"test_RD\")\n",
    "    check_accuracy(model, test_RD)\n",
    "    print(\"test_LU\")\n",
    "    check_accuracy(model, test_LU)\n",
    "    print(\"test_LD\")\n",
    "    check_accuracy(model, test_LD)\n",
    "    print(\"test_RU\")\n",
    "    check_accuracy(model, test_RU)\n",
    "            \n",
    "def check_accuracy(model, test_data):\n",
    "    num_correct = 0\n",
    "    num_samples = 0\n",
    "    model.eval() \n",
    "    for x, y in test_data:\n",
    "        x_var = Variable(x.cuda(), volatile=True)\n",
    "        scores = model(x_var)\n",
    "        _, preds = scores.data.cpu().max(1)\n",
    "        num_correct += (preds == y).sum()\n",
    "        num_samples += preds.size(0)\n",
    "    acc = float(num_correct) / num_samples\n",
    "    print('Got %d / %d correct (%.2f)' % (num_correct, num_samples, 100 * acc))"
   ]
  },
  {
   "cell_type": "markdown",
   "metadata": {},
   "source": [
    "### PoolBlock"
   ]
  },
  {
   "cell_type": "code",
   "execution_count": 5,
   "metadata": {},
   "outputs": [
    {
     "data": {
      "text/plain": [
       "torch.Size([1, 5, 28, 28])"
      ]
     },
     "execution_count": 5,
     "metadata": {},
     "output_type": "execute_result"
    }
   ],
   "source": [
    "#PoolBlock\n",
    "class PoolBlock(nn.Module):\n",
    "    \"\"\"Pool模块\"\"\"\n",
    "\n",
    "    def __init__(self, in_ch, out_ch):\n",
    "        super(PoolBlock, self).__init__()\n",
    "        self.conv_layer = nn.Sequential(\n",
    "            nn.Conv2d(in_ch, out_ch, 3, stride=1, padding=1),\n",
    "            nn.BatchNorm2d(out_ch),\n",
    "            nn.ReLU(),\n",
    "            nn.Dropout(0.2)\n",
    "        )\n",
    "        self.pool = nn.MaxPool2d(28,28)\n",
    "        self.conv2 = nn.Conv2d(out_ch*2,out_ch,1)\n",
    "\n",
    "    def forward(self, x):\n",
    "        res = x\n",
    "        x = self.conv_layer(x)\n",
    "        #x = x + res\n",
    "        x2 = self.pool(x)\n",
    "        x2 = x2.expand_as(x)\n",
    "        x = torch.cat((x,x2),dim=1)\n",
    "        x = self.conv2(x)\n",
    "        return x\n",
    "\n",
    "#test\n",
    "x = torch.randn(1,1,28,28)\n",
    "x = Variable(x)\n",
    "pool_net = PoolBlock(1,5)\n",
    "y = pool_net(x)\n",
    "y.shape"
   ]
  },
  {
   "cell_type": "markdown",
   "metadata": {},
   "source": [
    "# new_net"
   ]
  },
  {
   "cell_type": "code",
   "execution_count": 6,
   "metadata": {},
   "outputs": [
    {
     "name": "stdout",
     "output_type": "stream",
     "text": [
      "torch.Size([5, 10])\n"
     ]
    }
   ],
   "source": [
    "class Net(nn.Module):\n",
    "    def __init__(self):\n",
    "        super(Net, self).__init__()\n",
    "        self.feature = nn.Sequential(\n",
    "            PoolBlock(1,64),\n",
    "            PoolBlock(64,64),\n",
    "            PoolBlock(64,64),\n",
    "            PoolBlock(64,64),\n",
    "            PoolBlock(64,32),\n",
    "        )\n",
    "        self.classifier = nn.Sequential(\n",
    "            nn.Linear(32*28*28, 10),\n",
    "        )\n",
    "    def forward(self, x):\n",
    "        x = self.feature(x)\n",
    "        #print(x.shape)\n",
    "        x = x.view(x.size(0),-1)\n",
    "        x = self.classifier(x)\n",
    "        return x\n",
    "\n",
    "net = Net().cuda()\n",
    "\n",
    "input = Variable(torch.randn(5, 1, 28, 28)).cuda()\n",
    "out = net(input)\n",
    "print(out.shape)"
   ]
  },
  {
   "cell_type": "markdown",
   "metadata": {},
   "source": [
    "# run"
   ]
  },
  {
   "cell_type": "code",
   "execution_count": 60,
   "metadata": {},
   "outputs": [
    {
     "name": "stdout",
     "output_type": "stream",
     "text": [
      "Starting epoch 1 / 10\n",
      "Got 980 / 10000 correct (9.80)\n",
      "t = 200, loss = 1.0489\n",
      "t = 400, loss = 0.3484\n",
      "t = 600, loss = 0.4907\n",
      "t = 800, loss = 0.3932\n",
      "Starting epoch 2 / 10\n",
      "Got 8405 / 10000 correct (84.05)\n",
      "t = 200, loss = 0.2754\n",
      "t = 400, loss = 0.2686\n",
      "t = 600, loss = 0.2656\n",
      "t = 800, loss = 0.0665\n",
      "Starting epoch 3 / 10\n",
      "Got 8731 / 10000 correct (87.31)\n",
      "t = 200, loss = 0.3065\n",
      "t = 400, loss = 0.3054\n",
      "t = 600, loss = 0.2174\n",
      "t = 800, loss = 0.1535\n",
      "Starting epoch 4 / 10\n",
      "Got 9334 / 10000 correct (93.34)\n",
      "t = 200, loss = 0.1528\n",
      "t = 400, loss = 0.1769\n",
      "t = 600, loss = 0.2032\n",
      "t = 800, loss = 0.0365\n",
      "Starting epoch 5 / 10\n",
      "Got 9338 / 10000 correct (93.38)\n",
      "t = 200, loss = 0.2943\n",
      "t = 400, loss = 0.1492\n",
      "t = 600, loss = 0.3521\n",
      "t = 800, loss = 0.1463\n",
      "Starting epoch 6 / 10\n",
      "Got 9623 / 10000 correct (96.23)\n",
      "t = 200, loss = 0.1067\n",
      "t = 400, loss = 0.1276\n",
      "t = 600, loss = 0.0880\n",
      "t = 800, loss = 0.0181\n",
      "Starting epoch 7 / 10\n",
      "Got 9622 / 10000 correct (96.22)\n",
      "t = 200, loss = 0.1217\n",
      "t = 400, loss = 0.1528\n",
      "t = 600, loss = 0.1428\n",
      "t = 800, loss = 0.0753\n",
      "Starting epoch 8 / 10\n",
      "Got 9544 / 10000 correct (95.44)\n",
      "t = 200, loss = 0.1821\n",
      "t = 400, loss = 0.1554\n",
      "t = 600, loss = 0.2325\n",
      "t = 800, loss = 0.0775\n",
      "Starting epoch 9 / 10\n",
      "Got 9624 / 10000 correct (96.24)\n",
      "t = 200, loss = 0.2547\n",
      "t = 400, loss = 0.0894\n",
      "t = 600, loss = 0.1135\n",
      "t = 800, loss = 0.1138\n",
      "Starting epoch 10 / 10\n",
      "Got 9755 / 10000 correct (97.55)\n",
      "t = 200, loss = 0.0801\n",
      "t = 400, loss = 0.1013\n",
      "t = 600, loss = 0.1759\n",
      "t = 800, loss = 0.0224\n",
      "\n",
      " test_none_accuracy\n",
      "Got 2691 / 10000 correct (26.91)\n",
      "test_zoom_in_accuracy\n",
      "Got 1096 / 10000 correct (10.96)\n",
      "test_zoom_out\n",
      "Got 9785 / 10000 correct (97.85)\n",
      "test_RD\n",
      "Got 9792 / 10000 correct (97.92)\n",
      "test_LU\n",
      "Got 9789 / 10000 correct (97.89)\n",
      "test_LD\n",
      "Got 9792 / 10000 correct (97.92)\n",
      "test_RU\n",
      "Got 9793 / 10000 correct (97.93)\n"
     ]
    }
   ],
   "source": [
    "# 训练naive_net\n",
    "train(net, \n",
    "      train_zoom_out,\n",
    "      test_zoom_out, \n",
    "      num_epochs=10)"
   ]
  },
  {
   "cell_type": "code",
   "execution_count": 8,
   "metadata": {
    "collapsed": true
   },
   "outputs": [],
   "source": [
    "#对于位移不变性的泛化非常成功\n",
    "#可以继续试验旋转不变性\n",
    "#可以尝试膨胀卷积"
   ]
  },
  {
   "cell_type": "code",
   "execution_count": 61,
   "metadata": {
    "collapsed": true
   },
   "outputs": [],
   "source": [
    "torch.save(net.state_dict(),\"旁路池化zoom_out\")"
   ]
  },
  {
   "cell_type": "code",
   "execution_count": 62,
   "metadata": {
    "collapsed": true
   },
   "outputs": [],
   "source": [
    "net.load_state_dict(torch.load(\"旁路池化zoom_out\"))"
   ]
  },
  {
   "cell_type": "code",
   "execution_count": 64,
   "metadata": {},
   "outputs": [
    {
     "name": "stdout",
     "output_type": "stream",
     "text": [
      "torch.Size([64, 1, 28, 28])\n",
      "Got 7667 / 10000 correct (76.67)\n"
     ]
    }
   ],
   "source": [
    "zoom_out_RO = T.Compose([\n",
    "    T.Resize(10),\n",
    "    T.Pad((9,9,9,9)),#左上右下\n",
    "    T.RandomRotation(30),\n",
    "    T.ToTensor(),\n",
    "    ])\n",
    "\n",
    "train_RO, test_RO = get_mnist_dataloader(zoom_out_RO, 64)\n",
    "\n",
    "\n",
    "test_imgs = next(iter(test_RO))\n",
    "print(test_imgs[0].shape)\n",
    "writer = SummaryWriter()\n",
    "writer.add_image('Image', test_imgs[0], 1)\n",
    "writer.close()\n",
    "check_accuracy(net, test_RO)"
   ]
  },
  {
   "cell_type": "code",
   "execution_count": 38,
   "metadata": {},
   "outputs": [
    {
     "name": "stdout",
     "output_type": "stream",
     "text": [
      "torch.Size([5, 10])\n"
     ]
    }
   ],
   "source": [
    "class NaiveNet(nn.Module):\n",
    "    def __init__(self):\n",
    "        super(NaiveNet, self).__init__()\n",
    "        self.feature = nn.Sequential(\n",
    "            nn.Conv2d(1, 32, 3, stride=1),\n",
    "            nn.ReLU(),\n",
    "            nn.MaxPool2d(2, 2),\n",
    "            \n",
    "            nn.Conv2d(32, 32, 3, stride=1),\n",
    "            nn.ReLU(),\n",
    "            nn.MaxPool2d(2, 2),\n",
    "            \n",
    "            nn.Conv2d(32, 32, 3, stride=1),\n",
    "            nn.ReLU(),\n",
    "            nn.MaxPool2d(2, 2),\n",
    "            \n",
    "        )\n",
    "        self.classifier = nn.Sequential(\n",
    "            nn.Linear(32, 10),\n",
    "        )\n",
    "    def forward(self, x):\n",
    "        x = self.feature(x)\n",
    "\n",
    "        x = x.view(x.size(0),-1)\n",
    "        x = self.classifier(x)\n",
    "        return x\n",
    "\n",
    "naive_net = NaiveNet().cuda()\n",
    "\n",
    "input = Variable(torch.randn(5, 1, 28, 28)).cuda()\n",
    "out = naive_net(input)\n",
    "print(out.shape)"
   ]
  },
  {
   "cell_type": "code",
   "execution_count": 48,
   "metadata": {},
   "outputs": [
    {
     "name": "stdout",
     "output_type": "stream",
     "text": [
      "Starting epoch 1 / 10\n",
      "Got 989 / 10000 correct (9.89)\n",
      "t = 200, loss = 0.9017\n",
      "t = 400, loss = 0.4526\n",
      "t = 600, loss = 0.3599\n",
      "t = 800, loss = 0.4901\n",
      "Starting epoch 2 / 10\n",
      "Got 9204 / 10000 correct (92.04)\n",
      "t = 200, loss = 0.2919\n",
      "t = 400, loss = 0.2195\n",
      "t = 600, loss = 0.2348\n",
      "t = 800, loss = 0.3003\n",
      "Starting epoch 3 / 10\n",
      "Got 9518 / 10000 correct (95.18)\n",
      "t = 200, loss = 0.2182\n",
      "t = 400, loss = 0.1961\n",
      "t = 600, loss = 0.1983\n",
      "t = 800, loss = 0.2018\n",
      "Starting epoch 4 / 10\n",
      "Got 9579 / 10000 correct (95.79)\n",
      "t = 200, loss = 0.1647\n",
      "t = 400, loss = 0.1741\n",
      "t = 600, loss = 0.1892\n",
      "t = 800, loss = 0.1514\n",
      "Starting epoch 5 / 10\n",
      "Got 9612 / 10000 correct (96.12)\n",
      "t = 200, loss = 0.1430\n",
      "t = 400, loss = 0.1466\n",
      "t = 600, loss = 0.1891\n",
      "t = 800, loss = 0.1276\n",
      "Starting epoch 6 / 10\n",
      "Got 9639 / 10000 correct (96.39)\n",
      "t = 200, loss = 0.1240\n",
      "t = 400, loss = 0.1417\n",
      "t = 600, loss = 0.1896\n",
      "t = 800, loss = 0.1185\n",
      "Starting epoch 7 / 10\n",
      "Got 9659 / 10000 correct (96.59)\n",
      "t = 200, loss = 0.1118\n",
      "t = 400, loss = 0.1402\n",
      "t = 600, loss = 0.1613\n",
      "t = 800, loss = 0.1108\n",
      "Starting epoch 8 / 10\n",
      "Got 9675 / 10000 correct (96.75)\n",
      "t = 200, loss = 0.0955\n",
      "t = 400, loss = 0.1376\n",
      "t = 600, loss = 0.1361\n",
      "t = 800, loss = 0.0979\n",
      "Starting epoch 9 / 10\n",
      "Got 9704 / 10000 correct (97.04)\n",
      "t = 200, loss = 0.0851\n",
      "t = 400, loss = 0.1385\n",
      "t = 600, loss = 0.1266\n",
      "t = 800, loss = 0.0847\n",
      "Starting epoch 10 / 10\n",
      "Got 9718 / 10000 correct (97.18)\n",
      "t = 200, loss = 0.0689\n",
      "t = 400, loss = 0.1333\n",
      "t = 600, loss = 0.1292\n",
      "t = 800, loss = 0.0702\n",
      "\n",
      " test_none_accuracy\n",
      "Got 2493 / 10000 correct (24.93)\n",
      "test_zoom_in_accuracy\n",
      "Got 1579 / 10000 correct (15.79)\n",
      "test_zoom_out\n",
      "Got 9750 / 10000 correct (97.50)\n",
      "test_RD\n",
      "Got 1283 / 10000 correct (12.83)\n",
      "test_LU\n",
      "Got 2776 / 10000 correct (27.76)\n",
      "test_LD\n",
      "Got 853 / 10000 correct (8.53)\n",
      "test_RU\n",
      "Got 2031 / 10000 correct (20.31)\n"
     ]
    }
   ],
   "source": [
    "train(naive_net, \n",
    "      train_zoom_out,\n",
    "      test_zoom_out, \n",
    "      num_epochs=10)"
   ]
  },
  {
   "cell_type": "code",
   "execution_count": 41,
   "metadata": {},
   "outputs": [
    {
     "name": "stdout",
     "output_type": "stream",
     "text": [
      "Got 9767 / 10000 correct (97.67)\n"
     ]
    }
   ],
   "source": [
    "check_accuracy(naive_net, test_out)"
   ]
  },
  {
   "cell_type": "code",
   "execution_count": 57,
   "metadata": {
    "collapsed": true
   },
   "outputs": [],
   "source": [
    "zoom_out_RO = T.Compose([\n",
    "    T.Resize(10),\n",
    "    T.Pad(9),#左上右下\n",
    "    T.RandomRotation(30),\n",
    "    T.ToTensor(),\n",
    "    ])"
   ]
  },
  {
   "cell_type": "code",
   "execution_count": 59,
   "metadata": {},
   "outputs": [
    {
     "name": "stdout",
     "output_type": "stream",
     "text": [
      "Got 8574 / 10000 correct (85.74)\n"
     ]
    }
   ],
   "source": [
    "train_RO, test_RO = get_mnist_dataloader(zoom_out_RO, 64)\n",
    "check_accuracy(naive_net, test_RO)\n",
    "#旋转90度，精度47.11，30度，精度85.75%\n",
    "#在旋转不变性上，旁路池化性能有下降"
   ]
  },
  {
   "cell_type": "code",
   "execution_count": 105,
   "metadata": {},
   "outputs": [
    {
     "name": "stdout",
     "output_type": "stream",
     "text": [
      "torch.Size([64, 1, 28, 28])\n"
     ]
    }
   ],
   "source": [
    "##错位测试\n",
    "\n",
    "def CuoWei(x):\n",
    "    y = torch.zeros(1,28,28)\n",
    "    x1,x2 = torch.split(x,5,dim=1)\n",
    "    y[:,2:7,2:12] = x1\n",
    "    y[:,17:22,15:25] = x2\n",
    "    return y\n",
    "\n",
    "CW = T.Compose([\n",
    "    T.Resize(10),\n",
    "    T.ToTensor(),\n",
    "    T.Lambda(lambda x: CuoWei(x))\n",
    "    ])\n",
    "\n",
    "train_CW, test_CW = get_mnist_dataloader(CW, 64)\n",
    "\n",
    "test_imgs = next(iter(train_CW))[0]\n",
    "#test_imgs = CuoWei(test_imgs)\n",
    "print(test_imgs.shape)\n",
    "#test_imgs = CuoWei(test_imgs)\n",
    "writer = SummaryWriter()\n",
    "writer.add_image('Image', test_imgs, 1)\n",
    "writer.close()"
   ]
  },
  {
   "cell_type": "code",
   "execution_count": 106,
   "metadata": {},
   "outputs": [
    {
     "name": "stdout",
     "output_type": "stream",
     "text": [
      "Got 1285 / 10000 correct (12.85)\n"
     ]
    }
   ],
   "source": [
    "check_accuracy(naive_net, test_CW)"
   ]
  },
  {
   "cell_type": "code",
   "execution_count": 110,
   "metadata": {},
   "outputs": [
    {
     "name": "stdout",
     "output_type": "stream",
     "text": [
      "Got 2947 / 10000 correct (29.47)\n"
     ]
    }
   ],
   "source": [
    "check_accuracy(net, test_CW)"
   ]
  },
  {
   "cell_type": "code",
   "execution_count": null,
   "metadata": {
    "collapsed": true
   },
   "outputs": [],
   "source": []
  }
 ],
 "metadata": {
  "kernelspec": {
   "display_name": "Python 3",
   "language": "python",
   "name": "python3"
  },
  "language_info": {
   "codemirror_mode": {
    "name": "ipython",
    "version": 3
   },
   "file_extension": ".py",
   "mimetype": "text/x-python",
   "name": "python",
   "nbconvert_exporter": "python",
   "pygments_lexer": "ipython3",
   "version": "3.6.3"
  }
 },
 "nbformat": 4,
 "nbformat_minor": 1
}
